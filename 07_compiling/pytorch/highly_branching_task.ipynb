{
 "cells": [
  {
   "cell_type": "code",
   "execution_count": 1,
   "metadata": {},
   "outputs": [],
   "source": [
    "import torch"
   ]
  },
  {
   "cell_type": "code",
   "execution_count": 2,
   "metadata": {},
   "outputs": [],
   "source": [
    "def highly_branching_task(matrix, target):\n",
    "    \"\"\"\n",
    "    matrix: [Int] (of length N, where 0 < entry  <= N)\n",
    "    target: float\n",
    "    returns number of iterations to arrive random chained partial sum >= target\n",
    "    \"\"\"\n",
    "    result = 0\n",
    "    i = 0\n",
    "    N = 0\n",
    "\n",
    "    while result < target:\n",
    "        r = matrix[i]\n",
    "        result += r\n",
    "        i = matrix[i]\n",
    "        N += 1\n",
    "    return N"
   ]
  },
  {
   "cell_type": "code",
   "execution_count": 4,
   "metadata": {},
   "outputs": [
    {
     "data": {
      "text/plain": [
       "1"
      ]
     },
     "execution_count": 4,
     "metadata": {},
     "output_type": "execute_result"
    }
   ],
   "source": [
    "N = 1000\n",
    "\n",
    "matrix_torch = (torch.rand(N) * N).type(torch.int).to('cuda:0')\n",
    "highly_branching_task(matrix_torch, 500)"
   ]
  },
  {
   "cell_type": "code",
   "execution_count": 5,
   "metadata": {},
   "outputs": [
    {
     "data": {
      "text/plain": [
       "1"
      ]
     },
     "execution_count": 5,
     "metadata": {},
     "output_type": "execute_result"
    }
   ],
   "source": [
    "matrix_numpy = matrix_torch.cpu().numpy()\n",
    "highly_branching_task(matrix_numpy, 500)"
   ]
  },
  {
   "cell_type": "code",
   "execution_count": null,
   "metadata": {},
   "outputs": [],
   "source": []
  }
 ],
 "metadata": {
  "kernelspec": {
   "display_name": "Python 3",
   "language": "python",
   "name": "python3"
  },
  "language_info": {
   "codemirror_mode": {
    "name": "ipython",
    "version": 3
   },
   "file_extension": ".py",
   "mimetype": "text/x-python",
   "name": "python",
   "nbconvert_exporter": "python",
   "pygments_lexer": "ipython3",
   "version": "3.11.5"
  },
  "orig_nbformat": 4
 },
 "nbformat": 4,
 "nbformat_minor": 2
}

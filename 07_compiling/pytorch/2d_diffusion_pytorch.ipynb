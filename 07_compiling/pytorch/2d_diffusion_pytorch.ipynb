{
 "cells": [
  {
   "cell_type": "code",
   "execution_count": 1,
   "metadata": {},
   "outputs": [],
   "source": [
    "import time\n",
    "import numpy as np\n",
    "import torch\n",
    "\n",
    "from functools import partial\n",
    "from torch import (roll, zeros)"
   ]
  },
  {
   "cell_type": "code",
   "execution_count": 3,
   "metadata": {},
   "outputs": [],
   "source": [
    "DEVICE = torch.device(\"cuda:0\" if torch.cuda.is_available() else \"cpu\")  # <2>\n",
    "GRID_SHAPE = (4096, 4096)\n",
    "\n",
    "def timer(fxn, max_time=5):\n",
    "    N = 0\n",
    "    total_time = 0\n",
    "    fxn()  # prime the pump\n",
    "    while total_time < max_time:\n",
    "        start = time.perf_counter()\n",
    "        fxn()\n",
    "        total_time += time.perf_counter() - start\n",
    "        N += 1\n",
    "    return total_time / N"
   ]
  },
  {
   "cell_type": "code",
   "execution_count": null,
   "metadata": {},
   "outputs": [],
   "source": [
    "def laplacian(grid):\n",
    "    return (\n",
    "        roll(grid, +1, 0)\n",
    "        + roll(grid, -1, 0)\n",
    "        + roll(grid, +1, 1)\n",
    "        + roll(grid, -1, 1)\n",
    "        - 4*grid\n",
    "    )"
   ]
  }
 ],
 "metadata": {
  "kernelspec": {
   "display_name": "Python 3",
   "language": "python",
   "name": "python3"
  },
  "language_info": {
   "codemirror_mode": {
    "name": "ipython",
    "version": 3
   },
   "file_extension": ".py",
   "mimetype": "text/x-python",
   "name": "python",
   "nbconvert_exporter": "python",
   "pygments_lexer": "ipython3",
   "version": "3.11.5"
  },
  "orig_nbformat": 4
 },
 "nbformat": 4,
 "nbformat_minor": 2
}

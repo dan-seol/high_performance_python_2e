{
 "cells": [
  {
   "cell_type": "code",
   "execution_count": 11,
   "id": "2d0183dc",
   "metadata": {},
   "outputs": [],
   "source": [
    "import importlib.util\n",
    "import os\n",
    "import sys"
   ]
  },
  {
   "cell_type": "code",
   "execution_count": 25,
   "id": "06cfa7a1",
   "metadata": {},
   "outputs": [
    {
     "name": "stdout",
     "output_type": "stream",
     "text": [
      "Length of x: 1000\n",
      "Total elements: 1000000\n",
      "Took 0.15 seconds\n"
     ]
    }
   ],
   "source": [
    "%run -i './cython/cpython/julia1.py'"
   ]
  },
  {
   "cell_type": "code",
   "execution_count": 29,
   "id": "9315eef7",
   "metadata": {},
   "outputs": [
    {
     "name": "stdout",
     "output_type": "stream",
     "text": [
      "Length of x: 1000\n",
      "Total elements: 1000000\n",
      "Took 0.16 seconds\n"
     ]
    }
   ],
   "source": [
    "%run -i './cython/cpython_pyximport/julia1.py'"
   ]
  },
  {
   "cell_type": "code",
   "execution_count": 32,
   "id": "4f8e0c7e",
   "metadata": {},
   "outputs": [
    {
     "name": "stdout",
     "output_type": "stream",
     "text": [
      "Length of x: 1000\n",
      "Total elements: 1000000\n",
      "Took 0.30 seconds\n",
      "Total sum of elements (for validation): 33219980\n"
     ]
    }
   ],
   "source": [
    "%run -i './cython/nparray_memoryview/julia1.py'"
   ]
  },
  {
   "cell_type": "code",
   "execution_count": 30,
   "id": "9f5d9359",
   "metadata": {},
   "outputs": [
    {
     "name": "stdout",
     "output_type": "stream",
     "text": [
      "Length of x: 1000\n",
      "Total elements: 1000000\n",
      "Took 6.62 seconds\n",
      "Total sum of elements (for validation): 33219980\n"
     ]
    }
   ],
   "source": [
    "%run -i './cython/nparray_memoryview/julia1_np_nocython.py'"
   ]
  },
  {
   "cell_type": "code",
   "execution_count": 34,
   "id": "4e739b50",
   "metadata": {},
   "outputs": [
    {
     "name": "stdout",
     "output_type": "stream",
     "text": [
      "Length of x: 1000\n",
      "Total elements: 1000000\n",
      "Took 0.31 seconds\n",
      "Total sum of elements (for validation): 33219980\n"
     ]
    }
   ],
   "source": [
    "%run -i './cython/nparray_memoryview/parallel/julia1.py'"
   ]
  },
  {
   "cell_type": "code",
   "execution_count": 5,
   "id": "364e5cd6",
   "metadata": {},
   "outputs": [
    {
     "name": "stderr",
     "output_type": "stream",
     "text": [
      "/home/dan-seol/Projects/high_performance_python_2e/07_compiling/julia/julia1_numba.py:12: NumbaDeprecationWarning: \u001b[1mThe keyword argument 'nopython=False' was supplied. From Numba 0.59.0 the default is being changed to True and use of 'nopython=False' will raise a warning as the argument will have no effect. See https://numba.readthedocs.io/en/stable/reference/deprecation.html#deprecation-of-object-mode-fall-back-behaviour-when-using-jit for details.\u001b[0m\n",
      "  @jit(nopython=False)\n"
     ]
    },
    {
     "name": "stdout",
     "output_type": "stream",
     "text": [
      "Length of x: 1000\n",
      "Total elements: 1000000\n",
      "took 0.39883947372436523 seconds\n",
      "Doing second run to test warm-up\n",
      "took 0.2969083786010742 seconds\n",
      "Doing third run to test warm-up\n",
      "took 0.29146289825439453 seconds\n",
      "Total sum of elements (for validation): 33219980\n"
     ]
    }
   ],
   "source": [
    "%run -i './julia1_numba.py'"
   ]
  },
  {
   "cell_type": "code",
   "execution_count": 7,
   "id": "6e082c91",
   "metadata": {},
   "outputs": [
    {
     "name": "stdout",
     "output_type": "stream",
     "text": [
      "Length of x: 1000\n",
      "Total elements: 1000000\n",
      "took 0.27443718910217285 seconds\n",
      "Doing second run to test warm-up\n",
      "took 0.026852846145629883 seconds\n",
      "Doing third run to test warm-up\n",
      "took 0.041182756423950195 seconds\n",
      "calculate_z (int64, Array(complex128, 1, 'C', False, aligned=True), Array(complex128, 1, 'C', False, aligned=True), Array(int32, 1, 'C', False, aligned=True))\n",
      "--------------------------------------------------------------------------------\n",
      "# File: /home/dan-seol/Projects/high_performance_python_2e/07_compiling/julia/julia1_numba_expandedmath_inspection.py\n",
      "# --- LINE 11 --- \n",
      "# label 0\n",
      "#   maxiter = arg(0, name=maxiter)  :: int64\n",
      "#   zs = arg(1, name=zs)  :: array(complex128, 1d, C)\n",
      "#   zs_shape.0 = getattr(value=zs, attr=shape)  :: UniTuple(int64 x 1)\n",
      "#   zs_size0.1 = static_getitem(value=zs_shape.0, index=0, index_var=None, fn=<built-in function getitem>)  :: int64\n",
      "#   del zs_shape.0\n",
      "#   cs = arg(2, name=cs)  :: array(complex128, 1d, C)\n",
      "#   output = arg(3, name=output)  :: array(int32, 1d, C)\n",
      "\n",
      "@jit(nopython=True, parallel=True)\n",
      "\n",
      "# --- LINE 12 --- \n",
      "\n",
      "def calculate_z(maxiter, zs, cs, output):\n",
      "\n",
      "    # --- LINE 13 --- \n",
      "\n",
      "    \"\"\"Calculate output list using Julia update rule\"\"\"\n",
      "\n",
      "    # --- LINE 14 --- \n",
      "    #   id=0[LoopNest(index_variable = parfor_index.6, range = (0, zs_size0.1, 1))]{290: <ir.Block at /home/dan-seol/Projects/high_performance_python_2e/07_compiling/julia/julia1_numba_expandedmath_inspection.py (21)>, 112: <ir.Block at /home/dan-seol/Projects/high_performance_python_2e/07_compiling/julia/julia1_numba_expandedmath_inspection.py (18)>, 182: <ir.Block at /home/dan-seol/Projects/high_performance_python_2e/07_compiling/julia/julia1_numba_expandedmath_inspection.py (19)>, 220: <ir.Block at /home/dan-seol/Projects/high_performance_python_2e/07_compiling/julia/julia1_numba_expandedmath_inspection.py (18)>, 62: <ir.Block at /home/dan-seol/Projects/high_performance_python_2e/07_compiling/julia/julia1_numba_expandedmath_inspection.py (14)>}Var(parfor_index.6, julia1_numba_expandedmath_inspection.py:14)\n",
      "    #   del zs\n",
      "    #   del output\n",
      "    #   del maxiter\n",
      "    #   del cs\n",
      "    #   $const302.0 = const(NoneType, None)  :: none\n",
      "    #   $304return_value.1 = cast(value=$const302.0)  :: none\n",
      "    #   del $const302.0\n",
      "    #   return $304return_value.1\n",
      "\n",
      "    for i in prange(len(zs)):\n",
      "\n",
      "        # --- LINE 15 --- \n",
      "\n",
      "        n = 0\n",
      "\n",
      "        # --- LINE 16 --- \n",
      "\n",
      "        z = zs[i]\n",
      "\n",
      "        # --- LINE 17 --- \n",
      "\n",
      "        c = cs[i]\n",
      "\n",
      "        # --- LINE 18 --- \n",
      "\n",
      "        while n < maxiter and (z.real*z.real + z.imag*z.imag) < 4:\n",
      "\n",
      "            # --- LINE 19 --- \n",
      "\n",
      "            z = z * z + c\n",
      "\n",
      "            # --- LINE 20 --- \n",
      "\n",
      "            n += 1\n",
      "\n",
      "        # --- LINE 21 --- \n",
      "\n",
      "        output[i] = n\n",
      "\n",
      "    # --- LINE 22 --- \n",
      "\n",
      "    #return output\n",
      "\n",
      "\n",
      "================================================================================\n",
      "None\n",
      "Total sum of elements (for validation): 33219980\n"
     ]
    }
   ],
   "source": [
    "%run -i './julia1_numba_expandedmath_inspection.py'"
   ]
  },
  {
   "cell_type": "code",
   "execution_count": null,
   "id": "1afbc7b7",
   "metadata": {},
   "outputs": [],
   "source": []
  }
 ],
 "metadata": {
  "kernelspec": {
   "display_name": "Python 3",
   "language": "python",
   "name": "python3"
  },
  "language_info": {
   "codemirror_mode": {
    "name": "ipython",
    "version": 3
   },
   "file_extension": ".py",
   "mimetype": "text/x-python",
   "name": "python",
   "nbconvert_exporter": "python",
   "pygments_lexer": "ipython3",
   "version": "3.11.5"
  }
 },
 "nbformat": 4,
 "nbformat_minor": 5
}

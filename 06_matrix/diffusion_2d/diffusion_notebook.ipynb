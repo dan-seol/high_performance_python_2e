{
 "cells": [
  {
   "cell_type": "markdown",
   "metadata": {},
   "source": [
    "# Diffusion Equation"
   ]
  },
  {
   "cell_type": "markdown",
   "metadata": {},
   "source": [
    "$$\\frac{\\partial}{\\partial t}u(x, t) = D\\cdot\\frac{\\partial^2}{\\partial x^2}u(x,t)$$"
   ]
  },
  {
   "cell_type": "markdown",
   "metadata": {},
   "source": [
    "## Explanation\n",
    "- $u$ : a vector representing quantities diffusing\n",
    "    - 0 can be only water and 1 can be only dye, for an example\n",
    "    - can be 1D, 2D, 3D, etc.\n",
    "- $D$: a physical value representing properties of the fluid simulated\n",
    "    - the larger D is, the easier it diffuses\n",
    "- Also known as heat equation"
   ]
  },
  {
   "cell_type": "markdown",
   "metadata": {},
   "source": [
    "## Approach\n",
    "Will take the diffusion equation (continuous in space and time) and approximate it using discrete volumes and discrete times using finite difference methods:\n",
    "- forward difference:\n",
    "$$\n",
    "\\Delta_{h}[f](x) = f(x + h) - f(x)\n",
    "$$\n",
    "- backward difference:\n",
    "$$\n",
    "\\nabla_{h}[f](x) = f(x) - f(x-h) = \\Delta_{h}[f](x-h)\n",
    "$$\n",
    "- central difference:\n",
    "$$\n",
    "\\delta_{h}[f](x) = f(x+\\frac{h}{2}) - f(x-\\frac{h}{2}) = \\Delta_{h/2}[f](x) + \\nabla_{h/2}[f](x)\n",
    "$$\n",
    "\n",
    "\n",
    "*Forward Euler method for first order derivative* for LHS\n",
    "$$\n",
    "\\frac{\\partial}{\\partial t}u(x, t) \\approx \\Delta_{dt}[u(x, \\cdot)](t) = \\frac{u(x, t+dt) - u(x, t)}{dt}\n",
    "$$\n",
    "\n",
    "*central Euler method for second order derivative* for RHS\n",
    "$$\n",
    "\\frac{\\partial^2}{\\partial x^2}u(x,t) \\approx \\frac{\\delta^2_{dx}[u(\\cdot, t)](x)}{dx^2} = \\frac{\\frac{u(x+dx, t) - u(x, t)}{dx} - \\frac{u(x, t) - u(x-dx, t)}{dx}}{dx}\n",
    "$$\n",
    "$$\n",
    "= \\frac{u(x+dx, t) - 2 \\cdot u(x, t) + u(x-dx, t)}{dx^2}\n",
    "$$"
   ]
  },
  {
   "cell_type": "markdown",
   "metadata": {},
   "source": [
    "$\\implies$\n",
    "\n",
    "$$\n",
    "\\frac{u(x, t+dt) - u(x, t)}{dt} \\approx D\\cdot\\frac{u(x+dx, t) - 2 \\cdot u(x, t) + u(x-dx, t)}{dx^2}\n",
    "$$\n",
    "\n",
    "$\\implies$\n",
    "\n",
    "$$\n",
    "u(x, t+dt) \\approx u(x, t) + dt \\cdot D \\cdot \\frac{u(x+dx, t) - 2 \\cdot u(x, t) + u(x-dx, t)}{dx^2}\n",
    "$$\n",
    "\n",
    "WLOG we can assume $D=1$ and $dx = 1$"
   ]
  },
  {
   "cell_type": "markdown",
   "metadata": {},
   "source": [
    "## Considerations\n",
    "### Boundary Conditions?\n",
    "\"$x-dx$\" when $x$ is at the beginning of matrix?\n",
    "- fixed boundary condition :  any value out of the bounds of the matrix will be set to $C$ (usually 0)\n",
    "- periodic boundary condition : take $(x-dx) \\mod N$ where N is the length of the matrix\n",
    "### Storage?\n",
    "- how are we going tp store multiple time components of $u$\n",
    "- we could have one matrix for every time value we do our calculation for\n",
    "- two matrices? : one for the current state of the fluid and one for the next state"
   ]
  },
  {
   "cell_type": "code",
   "execution_count": 59,
   "metadata": {},
   "outputs": [],
   "source": [
    "# pure python code\n",
    "from math import sqrt\n",
    "from random import random\n",
    "from typing import Callable, Iterable, Tuple\n",
    "\n",
    "# helper functions\n",
    "\n",
    "def get_random_initial_condition(N: int) -> Iterable[float]:\n",
    "    if N < 1:\n",
    "        raise ValueError\n",
    "\n",
    "    for _ in range(N):\n",
    "        u_i = random.random()\n",
    "        yield float(round(u_i))\n",
    "\n",
    "\n",
    "def iterate_with_fixed_boundaries(\n",
    "        u: Iterable[float], C: float=0.0) -> Iterable[Tuple[float, float, float]]:\n",
    "    if not u:\n",
    "        raise ValueError\n",
    "\n",
    "    left = right = C\n",
    "    u = iter(u)\n",
    "    center = next(u)\n",
    "\n",
    "    for u_i in u:\n",
    "        right = u_i\n",
    "        yield left, center, right\n",
    "\n",
    "        left = center\n",
    "        center = right\n",
    "\n",
    "    right = C\n",
    "    yield left, center, right\n",
    "\n",
    "\n",
    "def iterate_with_periodic_boundaries(\n",
    "        u: Iterable[float]) -> Iterable[Tuple[float, float, float]]:\n",
    "    u_lst = list(u)\n",
    "    N = len(u_lst)\n",
    "\n",
    "    for i in range(N):\n",
    "        yield u_lst[(i-1)%N], u_lst[i%N], u_lst[(i+1)%N]\n",
    "\n",
    "\n",
    "def generate_updates(\n",
    "        u: Iterable[float],\n",
    "        D: float,\n",
    "        dt: float,\n",
    "        iterate: Callable[[Iterable[float]], Iterable[Tuple[float, float, float]]]) -> Iterable:\n",
    "    #inner_product = 0.0\n",
    "\n",
    "    for u_left, u_center, u_right in iterate(u):\n",
    "       u_new = u_center + dt * D * (u_left - 2*u_center + u_right)\n",
    "       #inner_product += (u_new-u_center) ** 2\n",
    "       yield u_new\n",
    "\n",
    "    #yield sqrt(inner_product)\n",
    "\n",
    "\n",
    "def one_dimension_diffusion(\n",
    "        N: int, T: int,\n",
    "        initial_condition=get_random_initial_condition,\n",
    "        iterate=iterate_with_periodic_boundaries,\n",
    "        B=0.00001, D=1.0, dt=0.0001) -> Iterable[float]:\n",
    "    u = initial_condition(N)\n",
    "\n",
    "    for _ in range(T):\n",
    "        #print(f'Current time is: {t}')\n",
    "        u = list(generate_updates(u, D, dt, iterate))\n",
    "        #norm = u.pop()\n",
    "        #if norm < B:\n",
    "        #    break\n",
    "\n",
    "    return list(u)\n"
   ]
  },
  {
   "cell_type": "code",
   "execution_count": 63,
   "metadata": {},
   "outputs": [
    {
     "name": "stderr",
     "output_type": "stream",
     "text": [
      "/home/dan-seol/micromamba/envs/cpy311/lib/python3.11/site-packages/seaborn/_oldcore.py:1498: FutureWarning: is_categorical_dtype is deprecated and will be removed in a future version. Use isinstance(dtype, CategoricalDtype) instead\n",
      "  if pd.api.types.is_categorical_dtype(vector):\n",
      "/home/dan-seol/micromamba/envs/cpy311/lib/python3.11/site-packages/seaborn/_oldcore.py:1498: FutureWarning: is_categorical_dtype is deprecated and will be removed in a future version. Use isinstance(dtype, CategoricalDtype) instead\n",
      "  if pd.api.types.is_categorical_dtype(vector):\n",
      "/home/dan-seol/micromamba/envs/cpy311/lib/python3.11/site-packages/seaborn/_oldcore.py:1119: FutureWarning: use_inf_as_na option is deprecated and will be removed in a future version. Convert inf values to NaN before operating instead.\n",
      "  with pd.option_context('mode.use_inf_as_na', True):\n",
      "/home/dan-seol/micromamba/envs/cpy311/lib/python3.11/site-packages/seaborn/_oldcore.py:1119: FutureWarning: use_inf_as_na option is deprecated and will be removed in a future version. Convert inf values to NaN before operating instead.\n",
      "  with pd.option_context('mode.use_inf_as_na', True):\n",
      "/home/dan-seol/micromamba/envs/cpy311/lib/python3.11/site-packages/seaborn/_oldcore.py:1498: FutureWarning: is_categorical_dtype is deprecated and will be removed in a future version. Use isinstance(dtype, CategoricalDtype) instead\n",
      "  if pd.api.types.is_categorical_dtype(vector):\n",
      "/home/dan-seol/micromamba/envs/cpy311/lib/python3.11/site-packages/seaborn/_oldcore.py:1498: FutureWarning: is_categorical_dtype is deprecated and will be removed in a future version. Use isinstance(dtype, CategoricalDtype) instead\n",
      "  if pd.api.types.is_categorical_dtype(vector):\n",
      "/home/dan-seol/micromamba/envs/cpy311/lib/python3.11/site-packages/seaborn/_oldcore.py:1119: FutureWarning: use_inf_as_na option is deprecated and will be removed in a future version. Convert inf values to NaN before operating instead.\n",
      "  with pd.option_context('mode.use_inf_as_na', True):\n",
      "/home/dan-seol/micromamba/envs/cpy311/lib/python3.11/site-packages/seaborn/_oldcore.py:1119: FutureWarning: use_inf_as_na option is deprecated and will be removed in a future version. Convert inf values to NaN before operating instead.\n",
      "  with pd.option_context('mode.use_inf_as_na', True):\n",
      "/home/dan-seol/micromamba/envs/cpy311/lib/python3.11/site-packages/seaborn/_oldcore.py:1498: FutureWarning: is_categorical_dtype is deprecated and will be removed in a future version. Use isinstance(dtype, CategoricalDtype) instead\n",
      "  if pd.api.types.is_categorical_dtype(vector):\n",
      "/home/dan-seol/micromamba/envs/cpy311/lib/python3.11/site-packages/seaborn/_oldcore.py:1498: FutureWarning: is_categorical_dtype is deprecated and will be removed in a future version. Use isinstance(dtype, CategoricalDtype) instead\n",
      "  if pd.api.types.is_categorical_dtype(vector):\n",
      "/home/dan-seol/micromamba/envs/cpy311/lib/python3.11/site-packages/seaborn/_oldcore.py:1119: FutureWarning: use_inf_as_na option is deprecated and will be removed in a future version. Convert inf values to NaN before operating instead.\n",
      "  with pd.option_context('mode.use_inf_as_na', True):\n",
      "/home/dan-seol/micromamba/envs/cpy311/lib/python3.11/site-packages/seaborn/_oldcore.py:1119: FutureWarning: use_inf_as_na option is deprecated and will be removed in a future version. Convert inf values to NaN before operating instead.\n",
      "  with pd.option_context('mode.use_inf_as_na', True):\n",
      "/home/dan-seol/micromamba/envs/cpy311/lib/python3.11/site-packages/seaborn/_oldcore.py:1498: FutureWarning: is_categorical_dtype is deprecated and will be removed in a future version. Use isinstance(dtype, CategoricalDtype) instead\n",
      "  if pd.api.types.is_categorical_dtype(vector):\n",
      "/home/dan-seol/micromamba/envs/cpy311/lib/python3.11/site-packages/seaborn/_oldcore.py:1498: FutureWarning: is_categorical_dtype is deprecated and will be removed in a future version. Use isinstance(dtype, CategoricalDtype) instead\n",
      "  if pd.api.types.is_categorical_dtype(vector):\n",
      "/home/dan-seol/micromamba/envs/cpy311/lib/python3.11/site-packages/seaborn/_oldcore.py:1119: FutureWarning: use_inf_as_na option is deprecated and will be removed in a future version. Convert inf values to NaN before operating instead.\n",
      "  with pd.option_context('mode.use_inf_as_na', True):\n",
      "/home/dan-seol/micromamba/envs/cpy311/lib/python3.11/site-packages/seaborn/_oldcore.py:1119: FutureWarning: use_inf_as_na option is deprecated and will be removed in a future version. Convert inf values to NaN before operating instead.\n",
      "  with pd.option_context('mode.use_inf_as_na', True):\n"
     ]
    },
    {
     "data": {
      "image/png": "[encoded data removed]",
      "text/plain": [
       "<Figure size 640x480 with 1 Axes>"
      ]
     },
     "metadata": {},
     "output_type": "display_data"
    }
   ],
   "source": [
    "import seaborn as sns\n",
    "\n",
    "N = 500\n",
    "\n",
    "\n",
    "def get_top_hat_initial_condition(N, left=200, right=300):\n",
    "    for i in range(N):\n",
    "        yield 1.0 if left <= i <= right else 0.0\n",
    "\n",
    "\n",
    "for T in (0, 500, 2500, 10500):\n",
    "    u = one_dimension_diffusion(\n",
    "        N, T, initial_condition=get_top_hat_initial_condition, D=2, dt=0.05)\n",
    "    sns.lineplot(data=u)"
   ]
  },
  {
   "cell_type": "markdown",
   "metadata": {},
   "source": [
    "# Multidimensional Diffusion Equation"
   ]
  },
  {
   "cell_type": "markdown",
   "metadata": {},
   "source": [
    "$$\n",
    "\\frac{\\partial}{\\partial t}u(\\vec{x}, t) = D * \\nabla^2 u = \\sum_{i=1}^n\\frac{\\partial^2 u}{\\partial x_i^2}(\\vec{x}, t)\n",
    "$$"
   ]
  },
  {
   "cell_type": "markdown",
   "metadata": {},
   "source": [
    "$\\implies$\n",
    "$$\n",
    "\\frac{u(x, t+dt) - u(x, t)}{dt} \\approx \n",
    "$$\n",
    "\n",
    "$$\n",
    "D\\cdot \\sum_{i=1}^n\\frac{u(x_1, x_2, ..., x_i+dx_i, ..., x_n, t) - 2 \\cdot u(\\vec{x}, t) + u(x_1, x_2, ..., x_i-dx_i, ..., x_n, t)}{dx_i^2}\n",
    "$$\n",
    "\n",
    "$\\implies$\n",
    "\n",
    "$$\n",
    "u(x, t+dt) \\approx u(x, t) +\n",
    "$$\n",
    "\n",
    "$$\n",
    "dt \\cdot D\\cdot \\sum_{i=1}^n\\frac{u(x_1, x_2, ..., x_i+dx_i, ..., x_n, t) - 2 \\cdot u(\\vec{x}, t) + u(x_1, x_2, ..., x_i-dx_i, ..., x_n, t)}{dx_i^2}\n",
    "$$\n",
    "\n",
    "\n",
    "WLOG we can assume $D=1$ and $\\forall i$ $ dx_i = 1$"
   ]
  },
  {
   "cell_type": "code",
   "execution_count": 66,
   "metadata": {},
   "outputs": [],
   "source": [
    "%load_ext memory_profiler"
   ]
  },
  {
   "cell_type": "code",
   "execution_count": 68,
   "metadata": {},
   "outputs": [
    {
     "name": "stdout",
     "output_type": "stream",
     "text": [
      "peak memory: 338.04 MiB, increment: 8.02 MiB\n"
     ]
    }
   ],
   "source": [
    "from diffusion_python import run_experiment\n",
    "%memit run_experiment(500)"
   ]
  },
  {
   "cell_type": "code",
   "execution_count": 69,
   "metadata": {},
   "outputs": [
    {
     "name": "stdout",
     "output_type": "stream",
     "text": [
      "peak memory: 337.05 MiB, increment: 7.00 MiB\n"
     ]
    }
   ],
   "source": [
    "from diffusion_python_memory import run_experiment\n",
    "%memit run_experiment(500)"
   ]
  },
  {
   "cell_type": "code",
   "execution_count": 1,
   "metadata": {},
   "outputs": [],
   "source": [
    "import time\n",
    "import numpy as np\n",
    "\n",
    "%load_ext line_profiler\n",
    "%load_ext memory_profiler\n"
   ]
  },
  {
   "cell_type": "code",
   "execution_count": null,
   "metadata": {},
   "outputs": [],
   "source": []
  }
 ],
 "metadata": {
  "kernelspec": {
   "display_name": "Python 3",
   "language": "python",
   "name": "python3"
  },
  "language_info": {
   "codemirror_mode": {
    "name": "ipython",
    "version": 3
   },
   "file_extension": ".py",
   "mimetype": "text/x-python",
   "name": "python",
   "nbconvert_exporter": "python",
   "pygments_lexer": "ipython3",
   "version": "3.11.5"
  },
  "orig_nbformat": 4
 },
 "nbformat": 4,
 "nbformat_minor": 2
}

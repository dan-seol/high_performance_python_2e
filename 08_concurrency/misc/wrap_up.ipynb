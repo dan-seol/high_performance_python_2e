{
 "cells": [
  {
   "cell_type": "markdown",
   "metadata": {},
   "source": [
    "# 8. Asynchronous I/O\n",
    "## Wrap Up"
   ]
  },
  {
   "cell_type": "markdown",
   "metadata": {},
   "source": [
    "- when solving real-world problems, I/O task with outside source is needed\n",
    "    - DB, another computer, a service etc.\n",
    "    - I/O bound problem\n",
    "- concurrency helps with I/O bound problems\n",
    "- gevent, tornado, asyncio\n",
    "- serial vs batched vs full async\n",
    "- next chapter - interleaving computation from I/O bound problems"
   ]
  },
  {
   "cell_type": "code",
   "execution_count": null,
   "metadata": {},
   "outputs": [],
   "source": []
  }
 ],
 "metadata": {
  "language_info": {
   "name": "python"
  },
  "orig_nbformat": 4
 },
 "nbformat": 4,
 "nbformat_minor": 2
}
